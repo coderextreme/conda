{
 "cells": [
  {
   "cell_type": "code",
   "execution_count": 1,
   "metadata": {},
   "outputs": [
    {
     "name": "stdout",
     "output_type": "stream",
     "text": [
      "x3d.py package loaded, have fun with X3D Graphics!\n"
     ]
    }
   ],
   "source": [
    "from x3d import *"
   ]
  },
  {
   "cell_type": "code",
   "execution_count": 2,
   "metadata": {},
   "outputs": [],
   "source": [
    "###############################################\n",
    "#\n",
    "# Now available: developmental python x3d.py package on PyPi for import.\n",
    "#   This approach greatly simplifies Python X3D deployment and use.\n",
    "#   https://pypi.org/project/x3d\n",
    "#\n",
    "# Installation:\n",
    "#       pip install x3d\n",
    "# or\n",
    "#       python -m pip install x3d\n",
    "#\n",
    "# Developer options for loading x3d package:\n",
    "#\n",
    "#    from x3d import *  # preferred approach, terser source that avoids x3d.* class prefixes\n",
    "#\n",
    "# or\n",
    "#    import x3d         # traditional way to subclass x3d package, all classes require x3d.* prefix\n",
    "#                       # but python source is very verbose, for example x3d.Material x3d.Shape etc.\n",
    "#                       # X3dToPython.xslt stylesheet insertPackagePrefix=true supports this option.\n",
    "\n",
    "###############################################\n",
    "\n",
    "newModel=X3D(profile='Interchange',version='3.3',\n",
    "  head=head(\n",
    "    children=[\n",
    "    meta(content='BackgroundCollection.x3d',name='title'),\n",
    "    meta(content='Collection of example Background nodes for author reuse, browse by selecting corresponding viewpoints.',name='description'),\n",
    "    meta(content='28 December 2014',name='created'),\n",
    "    meta(content='20 October 2019',name='modified'),\n",
    "    meta(content='Don Brutzman',name='creator'),\n",
    "    meta(content='https://www.web3d.org/x3d/content/examples/Basic/UniversalMediaPanoramas',name='reference'),\n",
    "    meta(content='https://www.web3d.org/x3d/tooltips/X3dTooltips.html#Background',name='reference'),\n",
    "    meta(content='https://www.web3d.org/documents/specifications/19775-1/V3.3/Part01/components/enveffects.html#Background',name='reference'),\n",
    "    meta(content='https://www.web3d.org/documents/specifications/19775-1/V3.3/Part01/components/enveffects.html#Concepts',name='reference'),\n",
    "    meta(content='https://x3dgraphics.com/slidesets/X3dForWebAuthors/Chapter11-LightingEnvironment.pdf',name='reference'),\n",
    "    meta(content='https://x3dgraphics.com/examples/X3dForAdvancedModeling/Visualization/BackgroundCollection.x3d',name='identifier'),\n",
    "    meta(content='https://www.web3d.org/x3d/content/examples/license.html',name='license'),\n",
    "    meta(content='X3D-Edit 3.3, https://savage.nps.edu/X3D-Edit',name='generator')]),\n",
    "  Scene=Scene(\n",
    "    children=[\n",
    "    WorldInfo(title='BackgroundCollection.x3d'),\n",
    "    Group(DEF='AllLandBackgrounds',\n",
    "      children=[\n",
    "      Background(DEF='BlueSkyWhiteHorizonBrownLand',groundAngle=[1.309,1.5708],groundColor=[(0.5,0.3,0.3),(0.5,0.3,0.3),(0.5,0.4,0.4)],skyAngle=[1.309,1.572],skyColor=[(0,0.2,0.7),(0,0.5,1),(1,1,1)]),\n",
    "      Viewpoint(DEF='BlueSkyWhiteHorizonBrownLandViewpoint',description='Blue Sky White Horizon Brown Land'),\n",
    "      ROUTE(fromField='isBound',fromNode='BlueSkyWhiteHorizonBrownLandViewpoint',toField='set_bind',toNode='BlueSkyWhiteHorizonBrownLand')]),\n",
    "    Group(DEF='AllSeaBackgrounds',\n",
    "      children=[\n",
    "      Background(DEF='BlueOceanWhiteHorizon',groundAngle=[1.309,1.570796],groundColor=[(0,0.3,.7),(0,0.35,0.75),(0,0.4,0.8)],skyAngle=[1.309,1.571],skyColor=[(0,0.3,0.8),(0,0.5,1),(1,1,1)]),\n",
    "      Viewpoint(DEF='BlueOceanWhiteHorizonViewpoint',description='Blue Ocean White Horizon'),\n",
    "      ROUTE(fromField='isBound',fromNode='BlueOceanWhiteHorizonViewpoint',toField='set_bind',toNode='BlueOceanWhiteHorizon'),\n",
    "      Background(DEF='OvercastSkyBlueOcean',groundAngle=[0.1,1.5,1.56,1.570796],groundColor=[(0,0,0),(0,0.1,0.2),(0,0.1,0.2),(0,0.15,0.3),(0.1,0.1,0.1)],skyAngle=[0.1,1.4,1.5,1.565,1.57079],skyColor=[(0.1,0.1,0.1),(0.2,0.2,0.2),(0.2,0.2,0.2),(0,0.3804,0.4784),(0,0.2,0.4),(0.4,0.4,0.4)]),\n",
    "      Viewpoint(DEF='OvercastSkyBlueOceanViewpoint',description='Overcast Sky Blue Ocean'),\n",
    "      ROUTE(fromField='isBound',fromNode='OvercastSkyBlueOceanViewpoint',toField='set_bind',toNode='OvercastSkyBlueOcean'),\n",
    "      Background(DEF='BlueSkyBlueOcean',groundAngle=[1.57079],groundColor=[(0,0.15,0.25),(0,0.15,0.25)],skyColor=[(0,0.3,0.5)]),\n",
    "      Viewpoint(DEF='BlueSkyBlueOceanViewpoint',description='Blue Sky Blue Ocean'),\n",
    "      ROUTE(fromField='isBound',fromNode='BlueSkyBlueOceanViewpoint',toField='set_bind',toNode='BlueSkyBlueOcean')]),\n",
    "    Group(DEF='AllSkyBackgrounds',\n",
    "      children=[\n",
    "      Background(DEF='SimplyWhite',skyColor=[(1,1,1)]),\n",
    "      Viewpoint(DEF='SimplyWhiteViewpoint',description='Simply White'),\n",
    "      ROUTE(fromField='isBound',fromNode='SimplyWhiteViewpoint',toField='set_bind',toNode='SimplyWhite'),\n",
    "      Background(DEF='SimplyGrey',skyColor=[(0.8,0.8,0.8)]),\n",
    "      Viewpoint(DEF='SimplyGreyViewpoint',description='Simply Grey'),\n",
    "      ROUTE(fromField='isBound',fromNode='SimplyGreyViewpoint',toField='set_bind',toNode='SimplyGrey'),\n",
    "      Background(DEF='SimplyDarkGrey',skyColor=[(0.4,0.4,0.4)]),\n",
    "      Viewpoint(DEF='SimplyDarkGreyViewpoint',description='Simply Dark Grey'),\n",
    "      ROUTE(fromField='isBound',fromNode='SimplyDarkGreyViewpoint',toField='set_bind',toNode='SimplyDarkGrey'),\n",
    "      Background(DEF='SimplyBlack'),\n",
    "      Viewpoint(DEF='SimplyBlackViewpoint',description='Simply Black'),\n",
    "      ROUTE(fromField='isBound',fromNode='SimplyBlackViewpoint',toField='set_bind',toNode='SimplyBlack')]),\n",
    "    Group(DEF='AllVarietyBackgrounds',\n",
    "      children=[\n",
    "      Background(DEF='BackgroundTest1',groundAngle=[1,1.4,1.5],groundColor=[(0,0,0),(0.2157,1,0.1216),(0.5,0.5,0.5),(1,1,1)],skyAngle=[1,1.309,1.57079],skyColor=[(0,0,0),(0.1647,0.0588,1),(0.5,0.5,0.5),(1,1,1)]),\n",
    "      Background(DEF='BackgroundTest2',groundAngle=[1,1.309],groundColor=[(0,0.3,.7),(0,0.35,0.75),(0,0.4,0.8)],skyAngle=[1.309,1.57079],skyColor=[(0,0.3,0.8),(0,0.5,1),(1,1,1)]),\n",
    "      Background(DEF='BackgroundTest3',groundAngle=[1.57079],groundColor=[(0,0.15,0.25),(0,0.15,0.25)],skyColor=[(0,0.3,0.5)]),\n",
    "      Background(DEF='BackgroundTest4',groundAngle=[1.57079],groundColor=[(0,0.15,0.25),(0,0.15,0.25)],skyColor=[(0,0.3,0.5)]),\n",
    "      Viewpoint(DEF='ViewpointTest1',description='Test1'),\n",
    "      ROUTE(fromField='isBound',fromNode='ViewpointTest1',toField='set_bind',toNode='BackgroundTest1'),\n",
    "      Viewpoint(DEF='ViewpointTest2',description='Test2'),\n",
    "      ROUTE(fromField='isBound',fromNode='ViewpointTest2',toField='set_bind',toNode='BackgroundTest2'),\n",
    "      Viewpoint(DEF='ViewpointTest3',description='Test3'),\n",
    "      ROUTE(fromField='isBound',fromNode='ViewpointTest3',toField='set_bind',toNode='BackgroundTest3'),\n",
    "      Viewpoint(DEF='ViewpointTest4',description='Test4'),\n",
    "      ROUTE(fromField='isBound',fromNode='ViewpointTest4',toField='set_bind',toNode='BackgroundTest4')]),\n",
    "    Group(DEF='UnboundViewpoints',\n",
    "      #  The final two viewpoints are not separately bound and can be selected to check any of the other Background nodes \n",
    "      children=[\n",
    "      Viewpoint(description='Looking up at current Background zenith',orientation=(1,0,0,1.570796)),\n",
    "      Viewpoint(description='Looking down at current Background nadir',orientation=(1,0,0,-1.570796))])])\n",
    ") # X3D model complete\n"
   ]
  },
  {
   "cell_type": "code",
   "execution_count": 3,
   "metadata": {},
   "outputs": [],
   "source": [
    "x3domHTML = '''<script type='text/javascript' src='https://www.x3dom.org/download/dev/x3dom-full.debug.js'> </script> \n",
    "<link rel='stylesheet' type='text/css' href='https://www.x3dom.org/download/dev/x3dom.css'></link>'''"
   ]
  },
  {
   "cell_type": "code",
   "execution_count": 4,
   "metadata": {},
   "outputs": [],
   "source": [
    "xml = newModel.toXML().replace(\"ImageTexture\", \"ImageTexture crossOrigin='anonymous'\")"
   ]
  },
  {
   "cell_type": "code",
   "execution_count": 5,
   "metadata": {},
   "outputs": [],
   "source": [
    "import xml.etree.ElementTree as ET"
   ]
  },
  {
   "cell_type": "code",
   "execution_count": 6,
   "metadata": {},
   "outputs": [],
   "source": [
    "x3domXML = ET.tostring(ET.XML(xml), encoding=\"unicode\", short_empty_elements=False)"
   ]
  },
  {
   "cell_type": "markdown",
   "metadata": {},
   "source": [
    "## Switch from non-trusted to trusted to allow javascript"
   ]
  },
  {
   "cell_type": "code",
   "execution_count": 7,
   "metadata": {},
   "outputs": [],
   "source": [
    "from IPython.display import HTML"
   ]
  },
  {
   "cell_type": "markdown",
   "metadata": {},
   "source": [
    "## Render X3D with x3dom"
   ]
  },
  {
   "cell_type": "code",
   "execution_count": 8,
   "metadata": {},
   "outputs": [
    {
     "data": {
      "text/html": [
       "<script type='text/javascript' src='https://www.x3dom.org/download/dev/x3dom-full.debug.js'> </script> \n",
       "<link rel='stylesheet' type='text/css' href='https://www.x3dom.org/download/dev/x3dom.css'></link><X3D xmlns:xsi=\"http://www.w3.org/2001/XMLSchema-instance\" profile=\"Interchange\" version=\"3.3\" xsi:noNamespaceSchemaLocation=\"http://www.web3d.org/specifications/x3d-3.3.xsd\">\n",
       "  <head>\n",
       "    <meta content=\"BackgroundCollection.x3d\" name=\"title\"></meta>\n",
       "    <meta content=\"Collection of example Background nodes for author reuse, browse by selecting corresponding viewpoints.\" name=\"description\"></meta>\n",
       "    <meta content=\"28 December 2014\" name=\"created\"></meta>\n",
       "    <meta content=\"20 October 2019\" name=\"modified\"></meta>\n",
       "    <meta content=\"Don Brutzman\" name=\"creator\"></meta>\n",
       "    <meta content=\"https://www.web3d.org/x3d/content/examples/Basic/UniversalMediaPanoramas\" name=\"reference\"></meta>\n",
       "    <meta content=\"https://www.web3d.org/x3d/tooltips/X3dTooltips.html#Background\" name=\"reference\"></meta>\n",
       "    <meta content=\"https://www.web3d.org/documents/specifications/19775-1/V3.3/Part01/components/enveffects.html#Background\" name=\"reference\"></meta>\n",
       "    <meta content=\"https://www.web3d.org/documents/specifications/19775-1/V3.3/Part01/components/enveffects.html#Concepts\" name=\"reference\"></meta>\n",
       "    <meta content=\"https://x3dgraphics.com/slidesets/X3dForWebAuthors/Chapter11-LightingEnvironment.pdf\" name=\"reference\"></meta>\n",
       "    <meta content=\"https://x3dgraphics.com/examples/X3dForAdvancedModeling/Visualization/BackgroundCollection.x3d\" name=\"identifier\"></meta>\n",
       "    <meta content=\"https://www.web3d.org/x3d/content/examples/license.html\" name=\"license\"></meta>\n",
       "    <meta content=\"X3D-Edit 3.3, https://savage.nps.edu/X3D-Edit\" name=\"generator\"></meta>\n",
       "  </head>\n",
       "  <Scene>\n",
       "    <WorldInfo title=\"BackgroundCollection.x3d\"></WorldInfo>\n",
       "    <Group DEF=\"AllLandBackgrounds\">\n",
       "      <Background DEF=\"BlueSkyWhiteHorizonBrownLand\" groundAngle=\"[1.309, 1.5708]\" groundColor=\"[(0.5, 0.3, 0.3), (0.5, 0.3, 0.3), (0.5, 0.4, 0.4)]\" skyAngle=\"[1.309, 1.572]\" skyColor=\"[(0, 0.2, 0.7), (0, 0.5, 1), (1, 1, 1)]\"></Background>\n",
       "      <Viewpoint DEF=\"BlueSkyWhiteHorizonBrownLandViewpoint\" description=\"Blue Sky White Horizon Brown Land\"></Viewpoint>\n",
       "      <ROUTE fromField=\"isBound\" fromNode=\"BlueSkyWhiteHorizonBrownLandViewpoint\" toField=\"set_bind\" toNode=\"BlueSkyWhiteHorizonBrownLand\"></ROUTE>\n",
       "    </Group>\n",
       "    <Group DEF=\"AllSeaBackgrounds\">\n",
       "      <Background DEF=\"BlueOceanWhiteHorizon\" groundAngle=\"[1.309, 1.570796]\" groundColor=\"[(0, 0.3, 0.7), (0, 0.35, 0.75), (0, 0.4, 0.8)]\" skyAngle=\"[1.309, 1.571]\" skyColor=\"[(0, 0.3, 0.8), (0, 0.5, 1), (1, 1, 1)]\"></Background>\n",
       "      <Viewpoint DEF=\"BlueOceanWhiteHorizonViewpoint\" description=\"Blue Ocean White Horizon\"></Viewpoint>\n",
       "      <ROUTE fromField=\"isBound\" fromNode=\"BlueOceanWhiteHorizonViewpoint\" toField=\"set_bind\" toNode=\"BlueOceanWhiteHorizon\"></ROUTE>\n",
       "      <Background DEF=\"OvercastSkyBlueOcean\" groundAngle=\"[0.1, 1.5, 1.56, 1.570796]\" groundColor=\"[(0, 0, 0), (0, 0.1, 0.2), (0, 0.1, 0.2), (0, 0.15, 0.3), (0.1, 0.1, 0.1)]\" skyAngle=\"[0.1, 1.4, 1.5, 1.565, 1.57079]\" skyColor=\"[(0.1, 0.1, 0.1), (0.2, 0.2, 0.2), (0.2, 0.2, 0.2), (0, 0.3804, 0.4784), (0, 0.2, 0.4), (0.4, 0.4, 0.4)]\"></Background>\n",
       "      <Viewpoint DEF=\"OvercastSkyBlueOceanViewpoint\" description=\"Overcast Sky Blue Ocean\"></Viewpoint>\n",
       "      <ROUTE fromField=\"isBound\" fromNode=\"OvercastSkyBlueOceanViewpoint\" toField=\"set_bind\" toNode=\"OvercastSkyBlueOcean\"></ROUTE>\n",
       "      <Background DEF=\"BlueSkyBlueOcean\" groundAngle=\"[1.57079]\" groundColor=\"[(0, 0.15, 0.25), (0, 0.15, 0.25)]\" skyColor=\"[(0, 0.3, 0.5)]\"></Background>\n",
       "      <Viewpoint DEF=\"BlueSkyBlueOceanViewpoint\" description=\"Blue Sky Blue Ocean\"></Viewpoint>\n",
       "      <ROUTE fromField=\"isBound\" fromNode=\"BlueSkyBlueOceanViewpoint\" toField=\"set_bind\" toNode=\"BlueSkyBlueOcean\"></ROUTE>\n",
       "    </Group>\n",
       "    <Group DEF=\"AllSkyBackgrounds\">\n",
       "      <Background DEF=\"SimplyWhite\" skyColor=\"[(1, 1, 1)]\"></Background>\n",
       "      <Viewpoint DEF=\"SimplyWhiteViewpoint\" description=\"Simply White\"></Viewpoint>\n",
       "      <ROUTE fromField=\"isBound\" fromNode=\"SimplyWhiteViewpoint\" toField=\"set_bind\" toNode=\"SimplyWhite\"></ROUTE>\n",
       "      <Background DEF=\"SimplyGrey\" skyColor=\"[(0.8, 0.8, 0.8)]\"></Background>\n",
       "      <Viewpoint DEF=\"SimplyGreyViewpoint\" description=\"Simply Grey\"></Viewpoint>\n",
       "      <ROUTE fromField=\"isBound\" fromNode=\"SimplyGreyViewpoint\" toField=\"set_bind\" toNode=\"SimplyGrey\"></ROUTE>\n",
       "      <Background DEF=\"SimplyDarkGrey\" skyColor=\"[(0.4, 0.4, 0.4)]\"></Background>\n",
       "      <Viewpoint DEF=\"SimplyDarkGreyViewpoint\" description=\"Simply Dark Grey\"></Viewpoint>\n",
       "      <ROUTE fromField=\"isBound\" fromNode=\"SimplyDarkGreyViewpoint\" toField=\"set_bind\" toNode=\"SimplyDarkGrey\"></ROUTE>\n",
       "      <Background DEF=\"SimplyBlack\"></Background>\n",
       "      <Viewpoint DEF=\"SimplyBlackViewpoint\" description=\"Simply Black\"></Viewpoint>\n",
       "      <ROUTE fromField=\"isBound\" fromNode=\"SimplyBlackViewpoint\" toField=\"set_bind\" toNode=\"SimplyBlack\"></ROUTE>\n",
       "    </Group>\n",
       "    <Group DEF=\"AllVarietyBackgrounds\">\n",
       "      <Background DEF=\"BackgroundTest1\" groundAngle=\"[1, 1.4, 1.5]\" groundColor=\"[(0, 0, 0), (0.2157, 1, 0.1216), (0.5, 0.5, 0.5), (1, 1, 1)]\" skyAngle=\"[1, 1.309, 1.57079]\" skyColor=\"[(0, 0, 0), (0.1647, 0.0588, 1), (0.5, 0.5, 0.5), (1, 1, 1)]\"></Background>\n",
       "      <Background DEF=\"BackgroundTest2\" groundAngle=\"[1, 1.309]\" groundColor=\"[(0, 0.3, 0.7), (0, 0.35, 0.75), (0, 0.4, 0.8)]\" skyAngle=\"[1.309, 1.57079]\" skyColor=\"[(0, 0.3, 0.8), (0, 0.5, 1), (1, 1, 1)]\"></Background>\n",
       "      <Background DEF=\"BackgroundTest3\" groundAngle=\"[1.57079]\" groundColor=\"[(0, 0.15, 0.25), (0, 0.15, 0.25)]\" skyColor=\"[(0, 0.3, 0.5)]\"></Background>\n",
       "      <Background DEF=\"BackgroundTest4\" groundAngle=\"[1.57079]\" groundColor=\"[(0, 0.15, 0.25), (0, 0.15, 0.25)]\" skyColor=\"[(0, 0.3, 0.5)]\"></Background>\n",
       "      <Viewpoint DEF=\"ViewpointTest1\" description=\"Test1\"></Viewpoint>\n",
       "      <ROUTE fromField=\"isBound\" fromNode=\"ViewpointTest1\" toField=\"set_bind\" toNode=\"BackgroundTest1\"></ROUTE>\n",
       "      <Viewpoint DEF=\"ViewpointTest2\" description=\"Test2\"></Viewpoint>\n",
       "      <ROUTE fromField=\"isBound\" fromNode=\"ViewpointTest2\" toField=\"set_bind\" toNode=\"BackgroundTest2\"></ROUTE>\n",
       "      <Viewpoint DEF=\"ViewpointTest3\" description=\"Test3\"></Viewpoint>\n",
       "      <ROUTE fromField=\"isBound\" fromNode=\"ViewpointTest3\" toField=\"set_bind\" toNode=\"BackgroundTest3\"></ROUTE>\n",
       "      <Viewpoint DEF=\"ViewpointTest4\" description=\"Test4\"></Viewpoint>\n",
       "      <ROUTE fromField=\"isBound\" fromNode=\"ViewpointTest4\" toField=\"set_bind\" toNode=\"BackgroundTest4\"></ROUTE>\n",
       "    </Group>\n",
       "    <Group DEF=\"UnboundViewpoints\">\n",
       "      <Viewpoint description=\"Looking up at current Background zenith\" orientation=\"(1, 0, 0, 1.570796)\"></Viewpoint>\n",
       "      <Viewpoint description=\"Looking down at current Background nadir\" orientation=\"(1, 0, 0, -1.570796)\"></Viewpoint>\n",
       "    </Group>\n",
       "  </Scene>\n",
       "</X3D>"
      ],
      "text/plain": [
       "<IPython.core.display.HTML object>"
      ]
     },
     "execution_count": 8,
     "metadata": {},
     "output_type": "execute_result"
    }
   ],
   "source": [
    "HTML(x3domHTML + x3domXML)"
   ]
  },
  {
   "cell_type": "code",
   "execution_count": null,
   "metadata": {},
   "outputs": [],
   "source": []
  },
  {
   "cell_type": "code",
   "execution_count": null,
   "metadata": {},
   "outputs": [],
   "source": []
  }
 ],
 "metadata": {
  "kernelspec": {
   "display_name": "Python 3",
   "language": "python",
   "name": "python3"
  },
  "language_info": {
   "codemirror_mode": {
    "name": "ipython",
    "version": 3
   },
   "file_extension": ".py",
   "mimetype": "text/x-python",
   "name": "python",
   "nbconvert_exporter": "python",
   "pygments_lexer": "ipython3",
   "version": "3.7.6"
  }
 },
 "nbformat": 4,
 "nbformat_minor": 4
}
