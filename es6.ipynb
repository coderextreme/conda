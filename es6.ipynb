{
 "cells": [
  {
   "cell_type": "code",
   "execution_count": 5,
   "metadata": {},
   "outputs": [],
   "source": [
    "from IPython.display import HTML\n"
   ]
  },
  {
   "cell_type": "code",
   "execution_count": 6,
   "metadata": {},
   "outputs": [],
   "source": [
    "x3domHTML = '''<script type='text/javascript' src='https://www.x3dom.org/download/dev/x3dom-full.debug.js'></script> \n",
    "<link rel='stylesheet' type='text/css' href='https://www.x3dom.org/download/dev/x3dom.css'></link>'''"
   ]
  },
  {
   "cell_type": "code",
   "execution_count": 7,
   "metadata": {},
   "outputs": [],
   "source": [
    "mod = '''<script type='module' src=\"./modules/app.mjs\"></script>'''\n",
    "\n",
    "import xml.etree.ElementTree as ET\n",
    "\n",
    "x3domXML = ET.tostring(ET.XML(mod), encoding=\"unicode\", short_empty_elements=False)"
   ]
  },
  {
   "cell_type": "code",
   "execution_count": 9,
   "metadata": {},
   "outputs": [
    {
     "name": "stdout",
     "output_type": "stream",
     "text": [
      "<script type='text/javascript' src='https://www.x3dom.org/download/dev/x3dom-full.debug.js'></script> \n",
      "<link rel='stylesheet' type='text/css' href='https://www.x3dom.org/download/dev/x3dom.css'></link><script src=\"./modules/app.mjs\" type=\"module\"></script>\n"
     ]
    },
    {
     "data": {
      "text/html": [
       "<script type='text/javascript' src='https://www.x3dom.org/download/dev/x3dom-full.debug.js'></script> \n",
       "<link rel='stylesheet' type='text/css' href='https://www.x3dom.org/download/dev/x3dom.css'></link><script src=\"./modules/app.mjs\" type=\"module\"></script>"
      ],
      "text/plain": [
       "<IPython.core.display.HTML object>"
      ]
     },
     "execution_count": 9,
     "metadata": {},
     "output_type": "execute_result"
    }
   ],
   "source": [
    "print(x3domHTML + x3domXML)\n",
    "HTML(x3domHTML + x3domXML)"
   ]
  },
  {
   "cell_type": "code",
   "execution_count": null,
   "metadata": {},
   "outputs": [],
   "source": []
  },
  {
   "cell_type": "code",
   "execution_count": null,
   "metadata": {},
   "outputs": [],
   "source": []
  }
 ],
 "metadata": {
  "kernelspec": {
   "display_name": "Python 3",
   "language": "python",
   "name": "python3"
  },
  "language_info": {
   "codemirror_mode": {
    "name": "ipython",
    "version": 3
   },
   "file_extension": ".py",
   "mimetype": "text/x-python",
   "name": "python",
   "nbconvert_exporter": "python",
   "pygments_lexer": "ipython3",
   "version": "3.7.6"
  }
 },
 "nbformat": 4,
 "nbformat_minor": 4
}
